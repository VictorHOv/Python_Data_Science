{
  "nbformat": 4,
  "nbformat_minor": 0,
  "metadata": {
    "colab": {
      "name": "Curso_Lógica_de_programação_Python_Alura.ipynb",
      "provenance": [],
      "collapsed_sections": [
        "LW0zXQxND8XW",
        "Za_S9t1HF9rc",
        "4eJVASkZJXP0",
        "m-xnRr60J3-2",
        "738szlXGMYpM",
        "RQdWEpVMQBQR",
        "G3GZJiz6WCuT",
        "KotatAlednAl",
        "hUIHOhk_sCxU",
        "3oIZHbXDvHBI"
      ],
      "authorship_tag": "ABX9TyPqEBlkSRa61u1wqv1Tk8mR",
      "include_colab_link": true
    },
    "kernelspec": {
      "name": "python3",
      "display_name": "Python 3"
    },
    "language_info": {
      "name": "python"
    }
  },
  "cells": [
    {
      "cell_type": "markdown",
      "metadata": {
        "id": "view-in-github",
        "colab_type": "text"
      },
      "source": [
        "<a href=\"https://colab.research.google.com/github/VictorHOv/logica_python_DS/blob/main/Curso_L%C3%B3gica_de_programa%C3%A7%C3%A3o_Python_Alura.ipynb\" target=\"_parent\"><img src=\"https://colab.research.google.com/assets/colab-badge.svg\" alt=\"Open In Colab\"/></a>"
      ]
    },
    {
      "cell_type": "markdown",
      "source": [
        "#Lógica de Programação Python"
      ],
      "metadata": {
        "id": "LW0zXQxND8XW"
      }
    },
    {
      "cell_type": "code",
      "execution_count": null,
      "metadata": {
        "colab": {
          "base_uri": "https://localhost:8080/"
        },
        "id": "tO2fm04hDat-",
        "outputId": "aeead299-8b4f-49e3-deab-a653eb2968d7"
      },
      "outputs": [
        {
          "output_type": "stream",
          "name": "stdout",
          "text": [
            "Victor\n"
          ]
        }
      ],
      "source": [
        "nome = 'Victor'\n",
        "print(nome)"
      ]
    },
    {
      "cell_type": "code",
      "source": [
        "idade = 20\n",
        "sexo = 'Masculino'\n",
        "persona = [nome, idade, sexo]\n",
        "print(persona)"
      ],
      "metadata": {
        "colab": {
          "base_uri": "https://localhost:8080/"
        },
        "id": "CbKYxrNCEmnr",
        "outputId": "f8967de7-748c-4e5f-cf93-51d58a00b059"
      },
      "execution_count": null,
      "outputs": [
        {
          "output_type": "stream",
          "name": "stdout",
          "text": [
            "['Victor', 20, 'Masculino']\n"
          ]
        }
      ]
    },
    {
      "cell_type": "markdown",
      "source": [
        "#Primeira Função"
      ],
      "metadata": {
        "id": "Za_S9t1HF9rc"
      }
    },
    {
      "cell_type": "code",
      "source": [
        "def pessoa():\n",
        "  nome = input('Qual o seu nome? ')\n",
        "  print(f'Olá {nome} seja bem-vindo')"
      ],
      "metadata": {
        "id": "KKBKUy2BFsqW"
      },
      "execution_count": null,
      "outputs": []
    },
    {
      "cell_type": "code",
      "source": [
        "pessoa()"
      ],
      "metadata": {
        "colab": {
          "base_uri": "https://localhost:8080/"
        },
        "id": "bjYxfp_JGusg",
        "outputId": "7f6bdf0a-f075-480f-d62c-c0b64b99367f"
      },
      "execution_count": null,
      "outputs": [
        {
          "output_type": "stream",
          "name": "stdout",
          "text": [
            "Qual o seu nome? Victor\n",
            "Olá Victor seja bem-vindo\n"
          ]
        }
      ]
    },
    {
      "cell_type": "code",
      "source": [
        "def nome_completo():\n",
        " primeiro_nome = input('Qual seu primeiro nome? ')\n",
        " sobrenome = input('Qual seu sobrenome? ')\n",
        " nome_inteiro = primeiro_nome + ' ' + sobrenome\n",
        " print(nome_inteiro)\n",
        "\n",
        "nome_completo()"
      ],
      "metadata": {
        "colab": {
          "base_uri": "https://localhost:8080/"
        },
        "id": "R-uNWEK6G4mS",
        "outputId": "b1720a18-d2ac-4e98-bf03-eb450a65656b"
      },
      "execution_count": null,
      "outputs": [
        {
          "output_type": "stream",
          "name": "stdout",
          "text": [
            "Qual seu primeiro nome? Victor\n",
            "Qual seu sobrenome? Henrique\n",
            "Victor Henrique\n"
          ]
        }
      ]
    },
    {
      "cell_type": "markdown",
      "source": [
        "#Parâmetros"
      ],
      "metadata": {
        "id": "4eJVASkZJXP0"
      }
    },
    {
      "cell_type": "code",
      "source": [
        "nome = 'Victor'\n",
        "def saudacao_parametrizada(nome_pessoa):\n",
        "  print(f'Olá {nome_pessoa}')"
      ],
      "metadata": {
        "id": "4UuEoinBH9v6"
      },
      "execution_count": null,
      "outputs": []
    },
    {
      "cell_type": "code",
      "source": [
        "saudacao_parametrizada(nome)"
      ],
      "metadata": {
        "colab": {
          "base_uri": "https://localhost:8080/"
        },
        "id": "JxCgD_xCJQIZ",
        "outputId": "70ce3c02-c16a-4154-e32e-3fa4fa5b8941"
      },
      "execution_count": null,
      "outputs": [
        {
          "output_type": "stream",
          "name": "stdout",
          "text": [
            "Olá Victor\n"
          ]
        }
      ]
    },
    {
      "cell_type": "code",
      "source": [
        "persona = [nome, idade, sexo]\n",
        "def saudacao_persona(persona_infos):\n",
        "  print(f'Esses são seus dados? {persona_infos}')"
      ],
      "metadata": {
        "id": "hHRALLjcJTN_"
      },
      "execution_count": null,
      "outputs": []
    },
    {
      "cell_type": "code",
      "source": [
        "saudacao_persona(persona)"
      ],
      "metadata": {
        "colab": {
          "base_uri": "https://localhost:8080/"
        },
        "id": "f8h_zFWnJwiJ",
        "outputId": "7128d504-26f0-4e01-a1b8-4b7f1f3c97f3"
      },
      "execution_count": null,
      "outputs": [
        {
          "output_type": "stream",
          "name": "stdout",
          "text": [
            "Esses são seus dados? ['Victor', 20, 'Masculino']\n"
          ]
        }
      ]
    },
    {
      "cell_type": "markdown",
      "source": [
        "#Condicional"
      ],
      "metadata": {
        "id": "m-xnRr60J3-2"
      }
    },
    {
      "cell_type": "code",
      "source": [
        "persona = [nome, idade, sexo]\n",
        "def pode_dirigir(dados_persona):\n",
        "  if idade >= 18:\n",
        "    print('Pode dirigir')\n",
        "  else:\n",
        "    print('Não pode dirigir')\n",
        "\n",
        "pode_dirigir(persona)    "
      ],
      "metadata": {
        "colab": {
          "base_uri": "https://localhost:8080/"
        },
        "id": "9bdIZwsfJ0YZ",
        "outputId": "29db2ee2-03e2-4856-9b21-a193d1350cc5"
      },
      "execution_count": null,
      "outputs": [
        {
          "output_type": "stream",
          "name": "stdout",
          "text": [
            "Pode dirigir\n"
          ]
        }
      ]
    },
    {
      "cell_type": "markdown",
      "source": [
        "#Convertendo STR em INT"
      ],
      "metadata": {
        "id": "738szlXGMYpM"
      }
    },
    {
      "cell_type": "code",
      "source": [
        "def pode_dirigir_sem_parametros():\n",
        "  idade = int(input('Qual a sua idade '))\n",
        "  if idade >= 18:\n",
        "    print('Pode dirigir')\n",
        "  else:\n",
        "    print('Não pode dirigir')\n",
        "\n",
        "pode_dirigir_sem_parametros()      "
      ],
      "metadata": {
        "colab": {
          "base_uri": "https://localhost:8080/"
        },
        "id": "rF9atfhyKkGD",
        "outputId": "73254cbf-1d2a-4979-f7de-e726ab8c22ee"
      },
      "execution_count": null,
      "outputs": [
        {
          "output_type": "stream",
          "name": "stdout",
          "text": [
            "Qual a sua idade 18\n",
            "Pode dirigir\n"
          ]
        }
      ]
    },
    {
      "cell_type": "code",
      "source": [
        "#Preciso entender como funciona se preciso passar uma lista\n",
        "idade = int(input('Qual a sua idade? '))\n",
        "primeiro_nome = input('Qual é o seu nome? ')\n",
        "sobrenome = input('Qual é o seu sobrenome?')\n",
        "persona = [primeiro_nome, sobrenome, idade]\n",
        "def pode_dirigir_em_lista(persona_dados_direcao):\n",
        " if idade >= 18:\n",
        "   print(f'{primeiro_nome}, você pode dirigir')\n",
        " else:\n",
        "   print(f'{primeiro_nome}, você não pode dirigir')\n",
        "pode_dirigir_em_lista(persona)      "
      ],
      "metadata": {
        "colab": {
          "base_uri": "https://localhost:8080/"
        },
        "id": "sSPjlZdoMBct",
        "outputId": "7efd4197-8e29-4905-8cbd-36389e8a5d6c"
      },
      "execution_count": null,
      "outputs": [
        {
          "output_type": "stream",
          "name": "stdout",
          "text": [
            "Qual a sua idade? 12\n",
            "Qual é o seu nome? Victor\n",
            "Qual é o seu sobrenome?Henrique\n",
            "Victor, você não pode dirigir\n"
          ]
        }
      ]
    },
    {
      "cell_type": "markdown",
      "source": [
        "#Criação de Listas"
      ],
      "metadata": {
        "id": "RQdWEpVMQBQR"
      }
    },
    {
      "cell_type": "code",
      "source": [
        "idade = int(input('Qual a sua idade? '))\n",
        "primeiro_nome = input('Qual é o seu nome? ')\n",
        "sobrenome = input('Qual é o seu sobrenome?')\n",
        "persona = [primeiro_nome, sobrenome, idade]\n",
        "def pode_dirigir_em_lista(persona_dados_direcao):\n",
        " if idade >= 18:\n",
        "   print(f'Pode dirigir')\n",
        " else:\n",
        "   print('Não pode dirigir')\n",
        "pode_dirigir_em_lista(persona)"
      ],
      "metadata": {
        "colab": {
          "base_uri": "https://localhost:8080/"
        },
        "id": "MAL48DczO9tn",
        "outputId": "e182552b-d628-4b03-f1d6-42e13df93714"
      },
      "execution_count": null,
      "outputs": [
        {
          "output_type": "stream",
          "name": "stdout",
          "text": [
            "Qual a sua idade? 12\n",
            "Qual é o seu nome? Victor\n",
            "Qual é o seu sobrenome?Henrique\n",
            "Não pode dirigir\n"
          ]
        }
      ]
    },
    {
      "cell_type": "markdown",
      "source": [
        "#Laços e Loops"
      ],
      "metadata": {
        "id": "G3GZJiz6WCuT"
      }
    },
    {
      "cell_type": "code",
      "source": [
        "idades = [12,14,20,26,80]"
      ],
      "metadata": {
        "id": "Auvl7uVaXUBs"
      },
      "execution_count": null,
      "outputs": []
    },
    {
      "cell_type": "code",
      "source": [
        "def direcao_idade(idade):\n",
        "  if idade >= 18 and idade <= 78:\n",
        "    print(f'{idade} anos de idade, tem permissão para dirigir.')\n",
        "  elif idade < 18:\n",
        "    print(f'{idade} anos de idade, não tem permissão para dirigir.')\n",
        "  elif idade > 78:\n",
        "    print(f'Com {idade} anos, não é recomendado dirigir.')\n",
        "  else:\n",
        "    print('Valor não encontrado')\n",
        "\n",
        "for idade in idades:\n",
        "  direcao_idade(idade)  "
      ],
      "metadata": {
        "colab": {
          "base_uri": "https://localhost:8080/"
        },
        "id": "o2VTtAWsaXvo",
        "outputId": "ab47da1e-e9d6-4417-8003-c62d6d7fbcbd"
      },
      "execution_count": null,
      "outputs": [
        {
          "output_type": "stream",
          "name": "stdout",
          "text": [
            "12 anos de idade, não tem permissão para dirigir.\n",
            "14 anos de idade, não tem permissão para dirigir.\n",
            "20 anos de idade, tem permissão para dirigir.\n",
            "26 anos de idade, tem permissão para dirigir.\n",
            "Com 80 anos, não é recomendado dirigir.\n"
          ]
        }
      ]
    },
    {
      "cell_type": "code",
      "source": [
        "def direcao_idade(idades):\n",
        "  for idade in idades:\n",
        "    if idade >= 18 and idade <= 78:\n",
        "      print(f'{idade} anos de idade, tem permissão para dirigir.')\n",
        "    elif idade < 18:\n",
        "      print(f'{idade} anos de idade, não tem permissão para dirigir.')\n",
        "    elif idade > 78:\n",
        "      print(f'Com {idade} anos, não é recomendado dirigir.')\n",
        "    else:\n",
        "      print('Valor não encontrado')\n",
        "\n",
        "direcao_idade(idades)"
      ],
      "metadata": {
        "colab": {
          "base_uri": "https://localhost:8080/"
        },
        "id": "bcRjLubVbvZy",
        "outputId": "dfd69d91-c2d4-4682-c4c9-e69b96a33fc1"
      },
      "execution_count": null,
      "outputs": [
        {
          "output_type": "stream",
          "name": "stdout",
          "text": [
            "12 anos de idade, não tem permissão para dirigir.\n",
            "14 anos de idade, não tem permissão para dirigir.\n",
            "20 anos de idade, tem permissão para dirigir.\n",
            "26 anos de idade, tem permissão para dirigir.\n",
            "Com 80 anos, não é recomendado dirigir.\n"
          ]
        }
      ]
    },
    {
      "cell_type": "code",
      "source": [
        ""
      ],
      "metadata": {
        "id": "hGPdok4fda5I"
      },
      "execution_count": null,
      "outputs": []
    },
    {
      "cell_type": "markdown",
      "source": [
        "#Type Bool"
      ],
      "metadata": {
        "id": "KotatAlednAl"
      }
    },
    {
      "cell_type": "code",
      "source": [
        "permissoes = []\n",
        "idades = [20, 25, 12, 29, 13, 17, 90]\n",
        "def pode_dirigir(idades, permissoes):\n",
        "  for idade in idades:\n",
        "    if idade >= 18:\n",
        "      permissoes.append(True)\n",
        "    else:\n",
        "      permissoes.append(False)\n",
        "\n",
        "pode_dirigir(idades, permissoes)\n",
        "print(permissoes) "
      ],
      "metadata": {
        "colab": {
          "base_uri": "https://localhost:8080/"
        },
        "id": "JxKoNjNbdzeL",
        "outputId": "f3618583-ea4a-45e3-e7fd-b16c665b3fac"
      },
      "execution_count": null,
      "outputs": [
        {
          "output_type": "stream",
          "name": "stdout",
          "text": [
            "[True, True, False, True, False, False, True]\n"
          ]
        }
      ]
    },
    {
      "cell_type": "code",
      "source": [
        "for permissao in permissoes:\n",
        "    if permissao == True:\n",
        "      print('Você pode dirigir')\n",
        "    else:\n",
        "      print('Você não pode dirigir')\n",
        "print(permissao)"
      ],
      "metadata": {
        "colab": {
          "base_uri": "https://localhost:8080/"
        },
        "id": "XIu4XowEe7je",
        "outputId": "46f29e54-10a5-40f2-c8c7-5a32913cf9a1"
      },
      "execution_count": null,
      "outputs": [
        {
          "output_type": "stream",
          "name": "stdout",
          "text": [
            "Você pode dirigir\n",
            "Você pode dirigir\n",
            "Você não pode dirigir\n",
            "Você pode dirigir\n",
            "Você não pode dirigir\n",
            "Você não pode dirigir\n",
            "Você pode dirigir\n",
            "True\n"
          ]
        }
      ]
    },
    {
      "cell_type": "markdown",
      "source": [
        "#Tipos dentro de uma Lista"
      ],
      "metadata": {
        "id": "hUIHOhk_sCxU"
      }
    },
    {
      "cell_type": "code",
      "source": [
        "elementos = ['Victor', 21, False, '28']\n",
        "for elemento in elementos:\n",
        "  print(f'O elemento {elemento} é do tipo: ', type(elemento))"
      ],
      "metadata": {
        "colab": {
          "base_uri": "https://localhost:8080/"
        },
        "id": "ZOWhVvteg7qH",
        "outputId": "228e1138-dcc2-458b-e02e-6ee28dd659eb"
      },
      "execution_count": null,
      "outputs": [
        {
          "output_type": "stream",
          "name": "stdout",
          "text": [
            "O elemento Victor é do tipo:  <class 'str'>\n",
            "O elemento 21 é do tipo:  <class 'int'>\n",
            "O elemento False é do tipo:  <class 'bool'>\n",
            "O elemento 28 é do tipo:  <class 'str'>\n"
          ]
        }
      ]
    },
    {
      "cell_type": "markdown",
      "source": [
        "#Imports"
      ],
      "metadata": {
        "id": "3oIZHbXDvHBI"
      }
    },
    {
      "cell_type": "code",
      "source": [
        "from random import randrange\n"
      ],
      "metadata": {
        "id": "ELMVecTGt7zv"
      },
      "execution_count": null,
      "outputs": []
    },
    {
      "cell_type": "code",
      "source": [
        "notas_matematica = []\n",
        "for notas in range(8):\n",
        "  notas_matematica.append(randrange(0,11))\n",
        "\n",
        "notas_matematica"
      ],
      "metadata": {
        "colab": {
          "base_uri": "https://localhost:8080/"
        },
        "id": "g_X_P_kyw1HN",
        "outputId": "3f7a5054-462d-473b-f23e-3bdd728d19b5"
      },
      "execution_count": null,
      "outputs": [
        {
          "output_type": "execute_result",
          "data": {
            "text/plain": [
              "[1, 3, 5, 0, 6, 2, 9, 5]"
            ]
          },
          "metadata": {},
          "execution_count": 137
        }
      ]
    },
    {
      "cell_type": "markdown",
      "source": [
        "# Matplotlib"
      ],
      "metadata": {
        "id": "GqlxADCFzKKe"
      }
    },
    {
      "cell_type": "code",
      "source": [
        "import matplotlib.pyplot as plt"
      ],
      "metadata": {
        "id": "6PDZXpKZxjxm"
      },
      "execution_count": null,
      "outputs": []
    },
    {
      "cell_type": "code",
      "source": [
        "x = list(range(1,9))\n",
        "y = notas_matematica\n",
        "plt.plot(x, y, marker='o')\n",
        "plt.title('Notas das Provas de Matemática')\n",
        "plt.xlabel('Quantidade de provas no Ano')\n",
        "plt.ylabel('Notas atingidas nas provas')\n",
        "plt.show()"
      ],
      "metadata": {
        "colab": {
          "base_uri": "https://localhost:8080/",
          "height": 295
        },
        "id": "Ldv9z1GBzbiL",
        "outputId": "038ec098-d6e8-446e-ffcd-da25749654fe"
      },
      "execution_count": null,
      "outputs": [
        {
          "output_type": "display_data",
          "data": {
            "text/plain": [
              "<Figure size 432x288 with 1 Axes>"
            ],
            "image/png": "[encoded data removed]"
          },
          "metadata": {
            "needs_background": "light"
          }
        }
      ]
    }
  ]
}